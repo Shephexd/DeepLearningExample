{
 "cells": [
  {
   "cell_type": "code",
   "execution_count": 1,
   "metadata": {
    "collapsed": true
   },
   "outputs": [],
   "source": [
    "import numpy as np\n",
    "import matplotlib.pyplot as plt"
   ]
  },
  {
   "cell_type": "code",
   "execution_count": 4,
   "metadata": {
    "collapsed": true
   },
   "outputs": [],
   "source": [
    "randn = np.random\n",
    "def init_network():\n",
    "    network = {}\n",
    "    network['W1'] = np.array(randn.rand(2,3))\n",
    "    network['b1'] = np.array(randn.rand(1,3))\n",
    "    network['W2'] = np.array(randn.rand(3,2))\n",
    "    network['b2'] = np.array(randn.rand(1,2))\n",
    "    network['W3'] = np.array(randn.rand(2.2))\n",
    "    network['b3'] = np.array(randn.rand(1,2))\n",
    "    return network"
   ]
  },
  {
   "cell_type": "code",
   "execution_count": 3,
   "metadata": {
    "collapsed": false
   },
   "outputs": [
    {
     "data": {
      "text/plain": [
       "array([[ 0.29832443,  0.12845232,  0.28920862],\n",
       "       [ 0.38659211,  0.94855943,  0.37966442]])"
      ]
     },
     "execution_count": 3,
     "metadata": {},
     "output_type": "execute_result"
    }
   ],
   "source": [
    "randn = np.random\n",
    "np.array(randn.rand(2,3))"
   ]
  },
  {
   "cell_type": "code",
   "execution_count": null,
   "metadata": {
    "collapsed": true
   },
   "outputs": [],
   "source": []
  }
 ],
 "metadata": {
  "kernelspec": {
   "display_name": "Python 3",
   "language": "python",
   "name": "python3"
  },
  "language_info": {
   "codemirror_mode": {
    "name": "ipython",
    "version": 3
   },
   "file_extension": ".py",
   "mimetype": "text/x-python",
   "name": "python",
   "nbconvert_exporter": "python",
   "pygments_lexer": "ipython3",
   "version": "3.6.0"
  }
 },
 "nbformat": 4,
 "nbformat_minor": 2
}
