{
 "cells": [
  {
   "cell_type": "code",
   "execution_count": 1,
   "metadata": {
    "collapsed": true
   },
   "outputs": [],
   "source": [
    "import numpy as np\n",
    "import matplotlib.pyplot as plt"
   ]
  },
  {
   "cell_type": "code",
   "execution_count": 2,
   "metadata": {
    "collapsed": false
   },
   "outputs": [],
   "source": [
    "def AND(x1, x2):\n",
    "    w1, w2, theta = 0.5, 0.5, 0.7\n",
    "    tmp = x1*w1 + x2*w2\n",
    "    if tmp <= theta:\n",
    "        return 0\n",
    "    if tmp > theta:\n",
    "        return 1"
   ]
  },
  {
   "cell_type": "code",
   "execution_count": 20,
   "metadata": {
    "collapsed": false
   },
   "outputs": [
    {
     "data": {
      "image/png": "[encoded data removed]",
      "text/plain": [
       "<matplotlib.figure.Figure at 0x7fb1019c6748>"
      ]
     },
     "metadata": {},
     "output_type": "display_data"
    }
   ],
   "source": [
    "w1, w2, theta = 0.5, 0.5, 0.7\n",
    "\n",
    "x1 = np.array([0,1,0,1])\n",
    "x2 = np.array([0,0,1,1])\n",
    "\n",
    "t1 = np.arange(0,1,0.01)\n",
    "t2 = np.arange(0,1,0.01)\n",
    "\n",
    "plt.plot(x1[:3],x2[:3],'rx')\n",
    "plt.plot(x1[3],x2[3],'ro')\n",
    "plt.show()"
   ]
  },
  {
   "cell_type": "code",
   "execution_count": 24,
   "metadata": {
    "collapsed": false
   },
   "outputs": [
    {
     "name": "stdout",
     "output_type": "stream",
     "text": [
      "AND: 0 0 , result: 0\n",
      "AND: 0 1 , result: 0\n",
      "AND: 1 0 , result: 0\n",
      "AND: 1 1 , result: 1\n"
     ]
    }
   ],
   "source": [
    "print(\"AND:\",0,0,\", result:\",AND(0,0))\n",
    "print(\"AND:\",0,1,\", result:\",AND(0,1))\n",
    "print(\"AND:\",1,0,\", result:\",AND(1,0))\n",
    "print(\"AND:\",1,1,\", result:\",AND(1,1))"
   ]
  },
  {
   "cell_type": "code",
   "execution_count": null,
   "metadata": {
    "collapsed": true
   },
   "outputs": [],
   "source": []
  }
 ],
 "metadata": {
  "kernelspec": {
   "display_name": "Python 3",
   "language": "python",
   "name": "python3"
  },
  "language_info": {
   "codemirror_mode": {
    "name": "ipython",
    "version": 3
   },
   "file_extension": ".py",
   "mimetype": "text/x-python",
   "name": "python",
   "nbconvert_exporter": "python",
   "pygments_lexer": "ipython3",
   "version": "3.6.0"
  }
 },
 "nbformat": 4,
 "nbformat_minor": 2
}
