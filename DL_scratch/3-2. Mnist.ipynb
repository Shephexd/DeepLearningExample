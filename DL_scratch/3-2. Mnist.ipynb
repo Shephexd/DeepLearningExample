{
 "cells": [
  {
   "cell_type": "code",
   "execution_count": 9,
   "metadata": {
    "collapsed": false
   },
   "outputs": [],
   "source": [
    "from PIL import Image\n",
    "import sys, os\n",
    "sys.path.append(os.pardir) # Append parent directoy\n",
    "from MNIST_data.mnist import load_mnist"
   ]
  },
  {
   "cell_type": "code",
   "execution_count": 10,
   "metadata": {
    "collapsed": true
   },
   "outputs": [],
   "source": [
    "import numpy as np\n",
    "import matplotlib.pyplot as plt"
   ]
  },
  {
   "cell_type": "code",
   "execution_count": 11,
   "metadata": {
    "collapsed": false
   },
   "outputs": [
    {
     "name": "stdout",
     "output_type": "stream",
     "text": [
      "(60000, 784)\n",
      "(60000,)\n",
      "(10000, 784)\n",
      "(10000,)\n"
     ]
    }
   ],
   "source": [
    "(x_train, t_train), (x_test, t_test) = load_mnist(flatten=True, normalize=False)\n",
    "\n",
    "print(x_train.shape)\n",
    "print(t_train.shape)\n",
    "print(x_test.shape)\n",
    "print(t_test.shape)"
   ]
  },
  {
   "cell_type": "markdown",
   "metadata": {},
   "source": [
    "### One-hot encoding\n",
    "The one value that is matched with the right value is $1$ else $0$. For instance, when we see the number $1$ on the array, that is $[0,1,0,0,0,0,0,0,0]$"
   ]
  },
  {
   "cell_type": "code",
   "execution_count": 12,
   "metadata": {
    "collapsed": false
   },
   "outputs": [
    {
     "name": "stdout",
     "output_type": "stream",
     "text": [
      "LABEL: 5\n",
      "(784,)\n"
     ]
    },
    {
     "data": {
      "image/png": "[encoded data removed]",
      "text/plain": [
       "<matplotlib.figure.Figure at 0x7f5359bf64a8>"
      ]
     },
     "metadata": {},
     "output_type": "display_data"
    }
   ],
   "source": [
    "from matplotlib.pyplot import imshow\n",
    "\n",
    "img = x_train[0]\n",
    "label = t_train[0]\n",
    "print(\"LABEL:\",label)\n",
    "\n",
    "print(img.shape)\n",
    "img = img.reshape(28,28)\n",
    "imshow(np.asarray(img))\n",
    "plt.show()"
   ]
  },
  {
   "cell_type": "markdown",
   "metadata": {},
   "source": [
    "#### Make a function for each method\n",
    "Used the weights that were already saved before by pickle library."
   ]
  },
  {
   "cell_type": "code",
   "execution_count": 13,
   "metadata": {
    "collapsed": false
   },
   "outputs": [],
   "source": [
    "import pickle\n",
    "\n",
    "\n",
    "def get_data():\n",
    "    (x_train, t_train), (x_test, t_test) = \\\n",
    "    load_mnist(flatten=True, normalize=True, one_hot_label=False)\n",
    "\n",
    "    return x_test, t_test\n",
    "\n",
    "def init_network():\n",
    "    with open(\"sample_weight.pkl\", 'rb') as f:\n",
    "        network = pickle.load(f)\n",
    "        \n",
    "        return network\n",
    "    \n",
    "\n",
    "def sigmoid(x):\n",
    "    return 1 / (1 + np.exp(-x))\n",
    "\n",
    "\n",
    "def predict(network, x):\n",
    "    W1, W2, W3 = network['W1'], network['W2'], network['W3']\n",
    "    b1, b2, b3 = network['b1'], network['b2'], network['b3']\n",
    "    \n",
    "    a1 = np.dot(x,W1) + b1\n",
    "    z1 = sigmoid(a1)\n",
    "    a2 = np.dot(z1,W2) + b2\n",
    "    z2 = sigmoid(a2)\n",
    "    a3 = np.dot(z2,W3) + b3\n",
    "    y = sigmoid(a3)\n",
    "    \n",
    "    return y"
   ]
  },
  {
   "cell_type": "code",
   "execution_count": 14,
   "metadata": {
    "collapsed": false
   },
   "outputs": [
    {
     "name": "stdout",
     "output_type": "stream",
     "text": [
      "Accuracy: 0.0096\n",
      "Accuracy: 0.0194\n",
      "Accuracy: 0.0287\n",
      "Accuracy: 0.0377\n",
      "Accuracy: 0.0471\n",
      "Accuracy: 0.056\n",
      "Accuracy: 0.0653\n",
      "Accuracy: 0.0748\n",
      "Accuracy: 0.0841\n",
      "Accuracy: 0.0932\n",
      "Accuracy: 0.1024\n",
      "Accuracy: 0.1114\n",
      "Accuracy: 0.1201\n",
      "Accuracy: 0.1293\n",
      "Accuracy: 0.1383\n",
      "Accuracy: 0.1473\n",
      "Accuracy: 0.1564\n",
      "Accuracy: 0.1651\n",
      "Accuracy: 0.1743\n",
      "Accuracy: 0.1831\n",
      "Accuracy: 0.1921\n",
      "Accuracy: 0.2009\n",
      "Accuracy: 0.2105\n",
      "Accuracy: 0.2197\n",
      "Accuracy: 0.2289\n",
      "Accuracy: 0.2379\n",
      "Accuracy: 0.2473\n",
      "Accuracy: 0.2567\n",
      "Accuracy: 0.2662\n",
      "Accuracy: 0.2753\n",
      "Accuracy: 0.285\n",
      "Accuracy: 0.2939\n",
      "Accuracy: 0.3034\n",
      "Accuracy: 0.3131\n",
      "Accuracy: 0.3223\n",
      "Accuracy: 0.3314\n",
      "Accuracy: 0.3408\n",
      "Accuracy: 0.3496\n",
      "Accuracy: 0.3577\n",
      "Accuracy: 0.3667\n",
      "Accuracy: 0.3759\n",
      "Accuracy: 0.3851\n",
      "Accuracy: 0.3941\n",
      "Accuracy: 0.403\n",
      "Accuracy: 0.412\n",
      "Accuracy: 0.4214\n",
      "Accuracy: 0.4311\n",
      "Accuracy: 0.4405\n",
      "Accuracy: 0.4493\n",
      "Accuracy: 0.4587\n",
      "Accuracy: 0.468\n",
      "Accuracy: 0.4777\n",
      "Accuracy: 0.4875\n",
      "Accuracy: 0.4974\n",
      "Accuracy: 0.5072\n",
      "Accuracy: 0.5172\n",
      "Accuracy: 0.5264\n",
      "Accuracy: 0.5361\n",
      "Accuracy: 0.5454\n",
      "Accuracy: 0.5544\n",
      "Accuracy: 0.5636\n",
      "Accuracy: 0.573\n",
      "Accuracy: 0.583\n",
      "Accuracy: 0.5926\n",
      "Accuracy: 0.6023\n",
      "Accuracy: 0.6114\n",
      "Accuracy: 0.6207\n",
      "Accuracy: 0.6295\n",
      "Accuracy: 0.6393\n",
      "Accuracy: 0.6491\n",
      "Accuracy: 0.6591\n",
      "Accuracy: 0.6688\n",
      "Accuracy: 0.6785\n",
      "Accuracy: 0.6884\n",
      "Accuracy: 0.6977\n",
      "Accuracy: 0.7074\n",
      "Accuracy: 0.7174\n",
      "Accuracy: 0.7273\n",
      "Accuracy: 0.7357\n",
      "Accuracy: 0.745\n",
      "Accuracy: 0.7543\n",
      "Accuracy: 0.7641\n",
      "Accuracy: 0.7737\n",
      "Accuracy: 0.7834\n",
      "Accuracy: 0.793\n",
      "Accuracy: 0.8027\n",
      "Accuracy: 0.8127\n",
      "Accuracy: 0.8227\n",
      "Accuracy: 0.8326\n",
      "Accuracy: 0.8426\n",
      "Accuracy: 0.8516\n",
      "Accuracy: 0.8615\n",
      "Accuracy: 0.8713\n",
      "Accuracy: 0.8812\n",
      "Accuracy: 0.8905\n",
      "Accuracy: 0.9001\n",
      "Accuracy: 0.9091\n",
      "Accuracy: 0.9172\n",
      "Accuracy: 0.9261\n",
      "Accuracy: 0.9352\n"
     ]
    }
   ],
   "source": [
    "x, t = get_data()\n",
    "network = init_network()\n",
    "\n",
    "batch_size = 100\n",
    "accuracy_cnt = 0\n",
    "\n",
    "for i in range(0,len(x),batch_size):\n",
    "    x_batch = x[i:i+batch_size]\n",
    "    y_batch = predict(network, x_batch)\n",
    "    p = np.argmax(y_batch, axis=1)\n",
    "    accuracy_cnt += np.sum(p == t[i:i+batch_size])\n",
    "    print(\"Accuracy:\", str(float(accuracy_cnt) / len(x)))"
   ]
  },
  {
   "cell_type": "markdown",
   "metadata": {},
   "source": [
    "### Normalization\n",
    "The range of vaule is 0 to 255. Normalization will make this range 0.0~1.0. It is one of the way for pre-processing."
   ]
  },
  {
   "cell_type": "code",
   "execution_count": 8,
   "metadata": {
    "collapsed": false
   },
   "outputs": [
    {
     "name": "stdout",
     "output_type": "stream",
     "text": [
      "[0, 1, 2, 3, 4, 5, 6, 7, 8, 9]\n",
      "[0, 3, 6, 9]\n",
      "[1 2 1 0]\n",
      "2\n"
     ]
    }
   ],
   "source": [
    "# np.argmax Example\n",
    "print(list(range(0,10)))\n",
    "print(list(range(0,10,3)))\n",
    "\n",
    "x = np.array([[0,0.8,0.1],\\\n",
    "             [0.3, 0.1, 0.6],\\\n",
    "             [0.2, 0.5, 0.3],\\\n",
    "             [0.8, 0.1, 0.1]])\n",
    "\n",
    "y1 = np.argmax(x, axis=1)\n",
    "print(y1)\n",
    "\n",
    "y2 = np.argmax(x, axis=0)\n",
    "print(2)"
   ]
  },
  {
   "cell_type": "code",
   "execution_count": null,
   "metadata": {
    "collapsed": true
   },
   "outputs": [],
   "source": []
  }
 ],
 "metadata": {
  "kernelspec": {
   "display_name": "Python 3",
   "language": "python",
   "name": "python3"
  },
  "language_info": {
   "codemirror_mode": {
    "name": "ipython",
    "version": 3
   },
   "file_extension": ".py",
   "mimetype": "text/x-python",
   "name": "python",
   "nbconvert_exporter": "python",
   "pygments_lexer": "ipython3",
   "version": "3.6.0"
  }
 },
 "nbformat": 4,
 "nbformat_minor": 2
}
